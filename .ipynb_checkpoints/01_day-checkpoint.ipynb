{
 "cells": [
  {
   "cell_type": "code",
   "execution_count": 1,
   "metadata": {},
   "outputs": [
    {
     "name": "stdout",
     "output_type": "stream",
     "text": [
      "Epoch 1/100\n",
      "5/5 [==============================] - 0s 15ms/step - loss: 7.8756 - accuracy: 0.0000e+00\n",
      "Epoch 2/100\n",
      "5/5 [==============================] - 0s 18ms/step - loss: 0.3815 - accuracy: 0.2000\n",
      "Epoch 3/100\n",
      "5/5 [==============================] - 0s 2ms/step - loss: 0.0338 - accuracy: 0.2000\n",
      "Epoch 4/100\n",
      "5/5 [==============================] - 0s 1ms/step - loss: 0.0214 - accuracy: 0.2000\n",
      "Epoch 5/100\n",
      "5/5 [==============================] - 0s 2ms/step - loss: 0.0213 - accuracy: 0.2000\n",
      "Epoch 6/100\n",
      "5/5 [==============================] - 0s 17ms/step - loss: 0.0208 - accuracy: 0.2000\n",
      "Epoch 7/100\n",
      "5/5 [==============================] - 0s 1ms/step - loss: 0.0201 - accuracy: 0.2000\n",
      "Epoch 8/100\n",
      "5/5 [==============================] - 0s 1ms/step - loss: 0.0194 - accuracy: 0.2000\n",
      "Epoch 9/100\n",
      "5/5 [==============================] - 0s 18ms/step - loss: 0.0187 - accuracy: 0.2000\n",
      "Epoch 10/100\n",
      "5/5 [==============================] - 0s 19ms/step - loss: 0.0181 - accuracy: 0.2000\n",
      "Epoch 11/100\n",
      "5/5 [==============================] - 0s 19ms/step - loss: 0.0174 - accuracy: 0.2000\n",
      "Epoch 12/100\n",
      "5/5 [==============================] - 0s 18ms/step - loss: 0.0168 - accuracy: 0.2000\n",
      "Epoch 13/100\n",
      "5/5 [==============================] - 0s 2ms/step - loss: 0.0162 - accuracy: 0.2000\n",
      "Epoch 14/100\n",
      "5/5 [==============================] - 0s 2ms/step - loss: 0.0156 - accuracy: 0.2000\n",
      "Epoch 15/100\n",
      "5/5 [==============================] - 0s 18ms/step - loss: 0.0151 - accuracy: 0.2000\n",
      "Epoch 16/100\n",
      "5/5 [==============================] - 0s 19ms/step - loss: 0.0146 - accuracy: 0.2000\n",
      "Epoch 17/100\n",
      "5/5 [==============================] - 0s 1ms/step - loss: 0.0140 - accuracy: 0.2000\n",
      "Epoch 18/100\n",
      "5/5 [==============================] - 0s 2ms/step - loss: 0.0135 - accuracy: 0.2000\n",
      "Epoch 19/100\n",
      "5/5 [==============================] - 0s 18ms/step - loss: 0.0131 - accuracy: 0.2000 0s - loss: 0.0267 - accuracy: 0.50\n",
      "Epoch 20/100\n",
      "5/5 [==============================] - 0s 18ms/step - loss: 0.0126 - accuracy: 0.2000\n",
      "Epoch 21/100\n",
      "5/5 [==============================] - 0s 19ms/step - loss: 0.0122 - accuracy: 0.2000\n",
      "Epoch 22/100\n",
      "5/5 [==============================] - 0s 18ms/step - loss: 0.0117 - accuracy: 0.2000\n",
      "Epoch 23/100\n",
      "5/5 [==============================] - 0s 1ms/step - loss: 0.0113 - accuracy: 0.2000\n",
      "Epoch 24/100\n",
      "5/5 [==============================] - 0s 2ms/step - loss: 0.0109 - accuracy: 0.2000\n",
      "Epoch 25/100\n",
      "5/5 [==============================] - 0s 18ms/step - loss: 0.0105 - accuracy: 0.2000\n",
      "Epoch 26/100\n",
      "5/5 [==============================] - 0s 19ms/step - loss: 0.0101 - accuracy: 0.2000\n",
      "Epoch 27/100\n",
      "5/5 [==============================] - 0s 18ms/step - loss: 0.0098 - accuracy: 0.2000\n",
      "Epoch 28/100\n",
      "5/5 [==============================] - 0s 19ms/step - loss: 0.0094 - accuracy: 0.2000\n",
      "Epoch 29/100\n",
      "5/5 [==============================] - 0s 18ms/step - loss: 0.0091 - accuracy: 0.2000\n",
      "Epoch 30/100\n",
      "5/5 [==============================] - 0s 19ms/step - loss: 0.0088 - accuracy: 0.2000\n",
      "Epoch 31/100\n",
      "5/5 [==============================] - 0s 18ms/step - loss: 0.0085 - accuracy: 0.2000\n",
      "Epoch 32/100\n",
      "5/5 [==============================] - 0s 2ms/step - loss: 0.0082 - accuracy: 0.2000\n",
      "Epoch 33/100\n",
      "5/5 [==============================] - 0s 2ms/step - loss: 0.0079 - accuracy: 0.2000\n",
      "Epoch 34/100\n",
      "5/5 [==============================] - 0s 1ms/step - loss: 0.0076 - accuracy: 0.2000\n",
      "Epoch 35/100\n",
      "5/5 [==============================] - 0s 18ms/step - loss: 0.0073 - accuracy: 0.2000\n",
      "Epoch 36/100\n",
      "5/5 [==============================] - 0s 2ms/step - loss: 0.0071 - accuracy: 0.2000\n",
      "Epoch 37/100\n",
      "5/5 [==============================] - 0s 1ms/step - loss: 0.0068 - accuracy: 0.2000\n",
      "Epoch 38/100\n",
      "5/5 [==============================] - 0s 18ms/step - loss: 0.0066 - accuracy: 0.2000\n",
      "Epoch 39/100\n",
      "5/5 [==============================] - 0s 2ms/step - loss: 0.0063 - accuracy: 0.2000\n",
      "Epoch 40/100\n",
      "5/5 [==============================] - 0s 1ms/step - loss: 0.0061 - accuracy: 0.2000\n",
      "Epoch 41/100\n",
      "5/5 [==============================] - 0s 1ms/step - loss: 0.0059 - accuracy: 0.2000\n",
      "Epoch 42/100\n",
      "5/5 [==============================] - 0s 1ms/step - loss: 0.0057 - accuracy: 0.2000\n",
      "Epoch 43/100\n",
      "5/5 [==============================] - 0s 2ms/step - loss: 0.0055 - accuracy: 0.2000\n",
      "Epoch 44/100\n",
      "5/5 [==============================] - 0s 15ms/step - loss: 0.0053 - accuracy: 0.2000\n",
      "Epoch 45/100\n",
      "5/5 [==============================] - 0s 18ms/step - loss: 0.0051 - accuracy: 0.2000\n",
      "Epoch 46/100\n",
      "5/5 [==============================] - 0s 1ms/step - loss: 0.0049 - accuracy: 0.2000\n",
      "Epoch 47/100\n",
      "5/5 [==============================] - 0s 2ms/step - loss: 0.0048 - accuracy: 0.2000\n",
      "Epoch 48/100\n",
      "5/5 [==============================] - 0s 18ms/step - loss: 0.0046 - accuracy: 0.2000\n",
      "Epoch 49/100\n",
      "5/5 [==============================] - 0s 2ms/step - loss: 0.0044 - accuracy: 0.2000\n",
      "Epoch 50/100\n",
      "5/5 [==============================] - 0s 2ms/step - loss: 0.0043 - accuracy: 0.2000\n",
      "Epoch 51/100\n",
      "5/5 [==============================] - 0s 2ms/step - loss: 0.0041 - accuracy: 0.2000\n",
      "Epoch 52/100\n",
      "5/5 [==============================] - 0s 19ms/step - loss: 0.0040 - accuracy: 0.2000\n",
      "Epoch 53/100\n",
      "5/5 [==============================] - 0s 18ms/step - loss: 0.0038 - accuracy: 0.2000\n",
      "Epoch 54/100\n",
      "5/5 [==============================] - 0s 19ms/step - loss: 0.0037 - accuracy: 0.2000\n",
      "Epoch 55/100\n",
      "5/5 [==============================] - 0s 18ms/step - loss: 0.0036 - accuracy: 0.2000\n",
      "Epoch 56/100\n",
      "5/5 [==============================] - 0s 19ms/step - loss: 0.0034 - accuracy: 0.2000\n",
      "Epoch 57/100\n",
      "5/5 [==============================] - 0s 1ms/step - loss: 0.0033 - accuracy: 0.2000\n",
      "Epoch 58/100\n",
      "5/5 [==============================] - 0s 2ms/step - loss: 0.0032 - accuracy: 0.2000\n",
      "Epoch 59/100\n",
      "5/5 [==============================] - 0s 3ms/step - loss: 0.0031 - accuracy: 0.2000\n",
      "Epoch 60/100\n",
      "5/5 [==============================] - 0s 2ms/step - loss: 0.0030 - accuracy: 0.2000\n",
      "Epoch 61/100\n",
      "5/5 [==============================] - 0s 18ms/step - loss: 0.0029 - accuracy: 0.2000\n",
      "Epoch 62/100\n",
      "5/5 [==============================] - 0s 18ms/step - loss: 0.0028 - accuracy: 0.2000\n",
      "Epoch 63/100\n",
      "5/5 [==============================] - 0s 19ms/step - loss: 0.0027 - accuracy: 0.2000\n",
      "Epoch 64/100\n",
      "5/5 [==============================] - 0s 18ms/step - loss: 0.0026 - accuracy: 0.2000\n",
      "Epoch 65/100\n",
      "5/5 [==============================] - 0s 19ms/step - loss: 0.0025 - accuracy: 0.2000\n",
      "Epoch 66/100\n",
      "5/5 [==============================] - 0s 18ms/step - loss: 0.0024 - accuracy: 0.2000\n",
      "Epoch 67/100\n",
      "5/5 [==============================] - 0s 19ms/step - loss: 0.0023 - accuracy: 0.2000\n",
      "Epoch 68/100\n",
      "5/5 [==============================] - 0s 18ms/step - loss: 0.0022 - accuracy: 0.2000\n",
      "Epoch 69/100\n",
      "5/5 [==============================] - 0s 2ms/step - loss: 0.0021 - accuracy: 0.2000\n",
      "Epoch 70/100\n",
      "5/5 [==============================] - 0s 2ms/step - loss: 0.0021 - accuracy: 0.2000\n",
      "Epoch 71/100\n",
      "5/5 [==============================] - 0s 17ms/step - loss: 0.0020 - accuracy: 0.2000\n",
      "Epoch 72/100\n",
      "5/5 [==============================] - 0s 18ms/step - loss: 0.0019 - accuracy: 0.2000\n",
      "Epoch 73/100\n",
      "5/5 [==============================] - 0s 18ms/step - loss: 0.0019 - accuracy: 0.2000\n",
      "Epoch 74/100\n",
      "5/5 [==============================] - 0s 18ms/step - loss: 0.0018 - accuracy: 0.2000\n",
      "Epoch 75/100\n",
      "5/5 [==============================] - 0s 2ms/step - loss: 0.0017 - accuracy: 0.2000\n",
      "Epoch 76/100\n",
      "5/5 [==============================] - 0s 2ms/step - loss: 0.0017 - accuracy: 0.2000\n",
      "Epoch 77/100\n",
      "5/5 [==============================] - 0s 18ms/step - loss: 0.0016 - accuracy: 0.2000\n",
      "Epoch 78/100\n",
      "5/5 [==============================] - 0s 18ms/step - loss: 0.0016 - accuracy: 0.2000\n",
      "Epoch 79/100\n",
      "5/5 [==============================] - 0s 18ms/step - loss: 0.0015 - accuracy: 0.2000\n",
      "Epoch 80/100\n",
      "5/5 [==============================] - 0s 2ms/step - loss: 0.0014 - accuracy: 0.2000\n",
      "Epoch 81/100\n",
      "5/5 [==============================] - 0s 1ms/step - loss: 0.0014 - accuracy: 0.2000\n",
      "Epoch 82/100\n",
      "5/5 [==============================] - 0s 18ms/step - loss: 0.0013 - accuracy: 0.2000\n",
      "Epoch 83/100\n",
      "5/5 [==============================] - 0s 19ms/step - loss: 0.0013 - accuracy: 0.2000\n",
      "Epoch 84/100\n",
      "5/5 [==============================] - 0s 3ms/step - loss: 0.0013 - accuracy: 0.2000\n",
      "Epoch 85/100\n",
      "5/5 [==============================] - 0s 16ms/step - loss: 0.0012 - accuracy: 0.2000\n",
      "Epoch 86/100\n",
      "5/5 [==============================] - 0s 19ms/step - loss: 0.0012 - accuracy: 0.2000\n",
      "Epoch 87/100\n",
      "5/5 [==============================] - ETA: 0s - loss: 0.0016 - accuracy: 0.33 - 0s 17ms/step - loss: 0.0011 - accuracy: 0.2000\n",
      "Epoch 88/100\n",
      "5/5 [==============================] - 0s 17ms/step - loss: 0.0011 - accuracy: 0.2000 0s - loss: 0.0012 - accuracy: 0.25\n",
      "Epoch 89/100\n",
      "5/5 [==============================] - 0s 19ms/step - loss: 0.0010 - accuracy: 0.2000\n",
      "Epoch 90/100\n",
      "5/5 [==============================] - 0s 1ms/step - loss: 0.0010 - accuracy: 0.2000\n",
      "Epoch 91/100\n",
      "5/5 [==============================] - 0s 2ms/step - loss: 9.7167e-04 - accuracy: 0.2000\n",
      "Epoch 92/100\n",
      "5/5 [==============================] - 0s 2ms/step - loss: 9.3722e-04 - accuracy: 0.2000\n",
      "Epoch 93/100\n",
      "5/5 [==============================] - 0s 19ms/step - loss: 9.0400e-04 - accuracy: 0.2000- loss: 0.0018 - accuracy: 0.50\n",
      "Epoch 94/100\n",
      "5/5 [==============================] - 0s 19ms/step - loss: 8.7195e-04 - accuracy: 0.2000\n",
      "Epoch 95/100\n",
      "5/5 [==============================] - 0s 2ms/step - loss: 8.4104e-04 - accuracy: 0.2000\n",
      "Epoch 96/100\n",
      "5/5 [==============================] - 0s 18ms/step - loss: 8.1123e-04 - accuracy: 0.2000\n",
      "Epoch 97/100\n",
      "5/5 [==============================] - 0s 19ms/step - loss: 7.8247e-04 - accuracy: 0.2000\n",
      "Epoch 98/100\n",
      "5/5 [==============================] - 0s 18ms/step - loss: 7.5473e-04 - accuracy: 0.2000\n",
      "Epoch 99/100\n",
      "5/5 [==============================] - 0s 4ms/step - loss: 7.2798e-04 - accuracy: 0.2000\n",
      "Epoch 100/100\n",
      "5/5 [==============================] - 0s 2ms/step - loss: 7.0217e-04 - accuracy: 0.2000\n",
      "[[1.0444604]\n",
      " [2.0307374]\n",
      " [3.0170145]\n",
      " [4.0032916]\n",
      " [4.989568 ]]\n"
     ]
    },
    {
     "data": {
      "image/png": "[encoded data removed]",
      "text/plain": [
       "<Figure size 432x288 with 1 Axes>"
      ]
     },
     "metadata": {
      "needs_background": "light"
     },
     "output_type": "display_data"
    }
   ],
   "source": [
    "from keras.models import Sequential # 케라스의 Sequential()을 임포트\n",
    "from keras.layers import Dense      # 케라스의 Dense()를 임포트\n",
    "from keras import optimizers        # 케라스의 옵티마이저를 임포트\n",
    "import numpy as np # Numpy를 임포트\n",
    "import matplotlib.pyplot as plt\n",
    "\n",
    "X=np.array([1,2,3,4,5]) \n",
    "Y=np.array([1,2,3,4,5]) \n",
    "\n",
    "model=Sequential()\n",
    "model.add(Dense(1, input_dim=1, activation='linear'))\n",
    "sgd=optimizers.SGD(lr=0.01)\n",
    "model.compile(optimizer=sgd ,loss='mse',metrics=['accuracy'])\n",
    "model.fit(X,Y, batch_size=1, epochs=100, shuffle=False)\n",
    "\n",
    "print(model.predict(X))\n",
    "plt.plot(X, Y, 'bo')\n",
    "plt.plot(X, model.predict(X), 'r-')\n",
    "plt.show()"
   ]
  },
  {
   "cell_type": "code",
   "execution_count": 2,
   "metadata": {},
   "outputs": [
    {
     "name": "stdout",
     "output_type": "stream",
     "text": [
      "1\n",
      "(3,)\n",
      "3\n",
      "3\n"
     ]
    },
    {
     "data": {
      "image/png": "[encoded data removed]",
      "text/plain": [
       "<Figure size 432x288 with 1 Axes>"
      ]
     },
     "metadata": {
      "needs_background": "light"
     },
     "output_type": "display_data"
    }
   ],
   "source": [
    "import numpy as np   # numeriacal computing\n",
    "import matplotlib.pyplot as plt  # plotting core\n",
    "\n",
    "# x = [1,2,3]\n",
    "# x[0] = 4\n",
    "# x.ndim\n",
    "\n",
    "x = np.array([1,2,3])\n",
    "y = np.array([1,2,3])\n",
    "print(x.ndim)  # 1\n",
    "print(x.shape) # (3,)\n",
    "print(x.shape[0])\n",
    "print(len(x))\n",
    "\n",
    "plt.plot(x,y, 'r--' )\n",
    "plt.plot(x,y, 'b.' )\n",
    "\n",
    "plt.grid(True)\n",
    "plt.show()"
   ]
  },
  {
   "cell_type": "code",
   "execution_count": 3,
   "metadata": {},
   "outputs": [
    {
     "name": "stdout",
     "output_type": "stream",
     "text": [
      "[0. 0. 0.]\n",
      "3\n",
      "3\n",
      "[0. 0. 0.]\n"
     ]
    },
    {
     "data": {
      "image/png": "[encoded data removed]",
      "text/plain": [
       "<Figure size 432x288 with 1 Axes>"
      ]
     },
     "metadata": {
      "needs_background": "light"
     },
     "output_type": "display_data"
    }
   ],
   "source": [
    "import numpy as np   # numeriacal computing\n",
    "import matplotlib.pyplot as plt  # plotting core\n",
    "\n",
    "x = np.array([1,2,3])\n",
    "y = np.array([1,2,3])\n",
    "\n",
    "w = 0\n",
    "b = 0\n",
    "\n",
    "y_hat = np.zeros(3)\n",
    "print(y_hat)\n",
    "print(len(x))\n",
    "print(x.shape[0])\n",
    "\n",
    "for i in range(len(x)):\n",
    "    y_hat[i] = w*x[i] + b;\n",
    "print(y_hat)\n",
    "\n",
    "plt.plot(x,y, 'o' )\n",
    "plt.plot(x,y, 'r-' )\n",
    "\n",
    "plt.plot(x,y_hat, 'o' )\n",
    "plt.plot(x,y_hat, 'b-' )\n",
    "\n",
    "plt.grid(True)\n",
    "plt.show()"
   ]
  },
  {
   "cell_type": "code",
   "execution_count": 4,
   "metadata": {},
   "outputs": [
    {
     "name": "stdout",
     "output_type": "stream",
     "text": [
      "[-1.         -0.95959596 -0.91919192 -0.87878788 -0.83838384 -0.7979798\n",
      " -0.75757576 -0.71717172 -0.67676768 -0.63636364 -0.5959596  -0.55555556\n",
      " -0.51515152 -0.47474747 -0.43434343 -0.39393939 -0.35353535 -0.31313131\n",
      " -0.27272727 -0.23232323 -0.19191919 -0.15151515 -0.11111111 -0.07070707\n",
      " -0.03030303  0.01010101  0.05050505  0.09090909  0.13131313  0.17171717\n",
      "  0.21212121  0.25252525  0.29292929  0.33333333  0.37373737  0.41414141\n",
      "  0.45454545  0.49494949  0.53535354  0.57575758  0.61616162  0.65656566\n",
      "  0.6969697   0.73737374  0.77777778  0.81818182  0.85858586  0.8989899\n",
      "  0.93939394  0.97979798  1.02020202  1.06060606  1.1010101   1.14141414\n",
      "  1.18181818  1.22222222  1.26262626  1.3030303   1.34343434  1.38383838\n",
      "  1.42424242  1.46464646  1.50505051  1.54545455  1.58585859  1.62626263\n",
      "  1.66666667  1.70707071  1.74747475  1.78787879  1.82828283  1.86868687\n",
      "  1.90909091  1.94949495  1.98989899  2.03030303  2.07070707  2.11111111\n",
      "  2.15151515  2.19191919  2.23232323  2.27272727  2.31313131  2.35353535\n",
      "  2.39393939  2.43434343  2.47474747  2.51515152  2.55555556  2.5959596\n",
      "  2.63636364  2.67676768  2.71717172  2.75757576  2.7979798   2.83838384\n",
      "  2.87878788  2.91919192  2.95959596  3.        ]\n",
      "100\n"
     ]
    },
    {
     "data": {
      "image/png": "[encoded data removed]",
      "text/plain": [
       "<Figure size 432x288 with 1 Axes>"
      ]
     },
     "metadata": {
      "needs_background": "light"
     },
     "output_type": "display_data"
    }
   ],
   "source": [
    "import numpy as np   # numeriacal computing\n",
    "import matplotlib.pyplot as plt  # plotting core\n",
    "\n",
    "w = np.linspace(-1,3,100)\n",
    "print(w)\n",
    "print(len(w))\n",
    "b = 0\n",
    "\n",
    "j = np.zeros(100)\n",
    "\n",
    "for i in range(len(w)):\n",
    "    y_hat = w[i]*2 + b;\n",
    "    j[i] = 0.5 * (y_hat - 2)**2\n",
    "\n",
    "plt.plot(w,j, 'o' )\n",
    "plt.plot(w,j, 'r-' )\n",
    "\n",
    "plt.grid(True)\n",
    "plt.show()"
   ]
  },
  {
   "cell_type": "code",
   "execution_count": 5,
   "metadata": {},
   "outputs": [
    {
     "data": {
      "image/png": "[encoded data removed]",
      "text/plain": [
       "<Figure size 432x288 with 1 Axes>"
      ]
     },
     "metadata": {
      "needs_background": "light"
     },
     "output_type": "display_data"
    }
   ],
   "source": [
    "import numpy as np   # numeriacal computing\n",
    "import matplotlib.pyplot as plt  # plotting core\n",
    "\n",
    "w = 1\n",
    "b = np.linspace(-3,3,100)\n",
    "\n",
    "j = np.zeros(100)\n",
    "for i in range(len(b)):\n",
    "    y_hat = w*2 + b[i];\n",
    "    j[i] = 0.5 * (y_hat - 2)**2\n",
    "\n",
    "plt.plot(b,j, 'o' )\n",
    "plt.plot(b,j, 'r-' )\n",
    "\n",
    "plt.grid(True)\n",
    "plt.show()"
   ]
  },
  {
   "cell_type": "code",
   "execution_count": null,
   "metadata": {},
   "outputs": [],
   "source": []
  }
 ],
 "metadata": {
  "kernelspec": {
   "display_name": "Python 3",
   "language": "python",
   "name": "python3"
  },
  "language_info": {
   "codemirror_mode": {
    "name": "ipython",
    "version": 3
   },
   "file_extension": ".py",
   "mimetype": "text/x-python",
   "name": "python",
   "nbconvert_exporter": "python",
   "pygments_lexer": "ipython3",
   "version": "3.7.4"
  }
 },
 "nbformat": 4,
 "nbformat_minor": 4
}
